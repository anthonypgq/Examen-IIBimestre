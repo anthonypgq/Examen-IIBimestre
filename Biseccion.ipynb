{
 "cells": [
  {
   "cell_type": "code",
   "execution_count": 50,
   "metadata": {},
   "outputs": [
    {
     "name": "stdout",
     "output_type": "stream",
     "text": [
      "[ 1.          1.          0.99999619  1.          0.99999809 -2.\n",
      "  5.          5.         -2.        ]\n"
     ]
    }
   ],
   "source": [
    "from scipy import optimize\n",
    "import numpy as np\n",
    "def f(x):\n",
    "    return (x**5 - 6*x**4 + 2*x**3 + 20*x**2 - 27*x + 10)  \n",
    "\n",
    "results = []\n",
    "root1 = optimize.bisect(f, 0, 1)\n",
    "root2 = optimize.bisect(f, 0, 2)\n",
    "root3 = optimize.bisect(f, 0, 3)\n",
    "root4 = optimize.bisect(f, 0, 4)\n",
    "root5 = optimize.bisect(f, -1, 4)\n",
    "root6 = optimize.bisect(f, -2, 4)\n",
    "root7 = optimize.bisect(f, 0, 5)\n",
    "root8 = optimize.bisect(f, -5, 5)\n",
    "root9 = optimize.bisect(f, -20, 20)\n",
    "\n",
    "results.append(root1)\n",
    "results.append(root2)\n",
    "results.append(root3)\n",
    "results.append(root4)\n",
    "results.append(root5)\n",
    "results.append(root6)\n",
    "results.append(root7)\n",
    "results.append(root8)\n",
    "results.append(root9)\n",
    "print(np.array(results))\n"
   ]
  }
 ],
 "metadata": {
  "kernelspec": {
   "display_name": "Python 3",
   "language": "python",
   "name": "python3"
  },
  "language_info": {
   "codemirror_mode": {
    "name": "ipython",
    "version": 3
   },
   "file_extension": ".py",
   "mimetype": "text/x-python",
   "name": "python",
   "nbconvert_exporter": "python",
   "pygments_lexer": "ipython3",
   "version": "3.12.3"
  }
 },
 "nbformat": 4,
 "nbformat_minor": 2
}
