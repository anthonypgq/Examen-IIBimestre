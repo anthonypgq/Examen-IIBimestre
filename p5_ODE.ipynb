{
 "cells": [
  {
   "cell_type": "code",
   "execution_count": 2,
   "metadata": {},
   "outputs": [],
   "source": [
    "%load_ext autoreload"
   ]
  },
  {
   "cell_type": "markdown",
   "metadata": {},
   "source": [
    "# ODE"
   ]
  },
  {
   "cell_type": "markdown",
   "metadata": {},
   "source": [
    "## Ejercicio 1\n",
    "$y'= -5y+5t^2+2t$\n",
    "* $0 \\le t \\le 1$\n",
    "* $y(t_0)=1/3$\n",
    "* $N=10$\n",
    "\n"
   ]
  },
  {
   "cell_type": "code",
   "execution_count": 5,
   "metadata": {},
   "outputs": [
    {
     "name": "stdout",
     "output_type": "stream",
     "text": [
      "[0.3333333333333333, 0.16666666666666666, 0.10833333333333334, 0.11416666666666667, 0.16208333333333336, 0.2410416666666667, 0.34552083333333333, 0.4727604166666667, 0.6213802083333333, 0.7906901041666666, 0.9803450520833332]\n",
      "0.1\n"
     ]
    }
   ],
   "source": [
    "\n",
    "from src import ODE_euler, ODE_euler_nth\n",
    "f = lambda t, y: -5*y + 5*t**2 + 2*t\n",
    "y_t0 = 1/3\n",
    "\n",
    "a = 0\n",
    "b = 1\n",
    "\n",
    "ys,ts, h = ODE_euler(a=a, b=b, y_t0=y_t0, f=f, N=10)\n",
    "print(ys)\n",
    "print(h) "
   ]
  },
  {
   "cell_type": "code",
   "execution_count": 3,
   "metadata": {},
   "outputs": [
    {
     "data": {
      "image/png": "[encoded data removed]",
      "text/plain": [
       "<Figure size 432x288 with 1 Axes>"
      ]
     },
     "metadata": {
      "needs_background": "light"
     },
     "output_type": "display_data"
    }
   ],
   "source": [
    "import matplotlib.pyplot as plt\n",
    "\n",
    "plt.plot(ts, ys, marker=\"o\", linestyle=\":\", label=r\"$\\hat{y}$\")\n",
    "plt.xlabel(\"Time\")\n",
    "plt.ylabel(\"Y\")\n",
    "plt.title(\"Solución usando Método de Euler\")\n",
    "plt.legend()\n",
    "plt.show()"
   ]
  },
  {
   "cell_type": "markdown",
   "metadata": {},
   "source": [
    "## Comparación con la solución real\n",
    "La solución real de la ecuación diferencial es:\n",
    "$y(t)=t^2 +1/3e^{-5t}$\n",
    "\n",
    "* Grafique la solución real y la aproximación obtenida con el método de Euler y el de Taylor de 2do orden en una misma gráfica.\n",
    "\n"
   ]
  },
  {
   "cell_type": "code",
   "execution_count": 4,
   "metadata": {},
   "outputs": [],
   "source": [
    "from math import exp\n",
    "\n",
    "y_real = lambda t: t**2 + 1 / 3 * exp(-5 * t)"
   ]
  },
  {
   "cell_type": "code",
   "execution_count": null,
   "metadata": {},
   "outputs": [],
   "source": []
  },
  {
   "cell_type": "code",
   "execution_count": 6,
   "metadata": {},
   "outputs": [],
   "source": [
    "# Calcular error relativo"
   ]
  },
  {
   "cell_type": "markdown",
   "metadata": {},
   "source": [
    "# Método de Taylor"
   ]
  },
  {
   "cell_type": "code",
   "execution_count": 10,
   "metadata": {},
   "outputs": [
    {
     "name": "stdout",
     "output_type": "stream",
     "text": [
      "[0.3333333333333333, 0.17666666666666667, 0.12833333333333333, 0.14416666666666667, 0.20208333333333334, 0.2910416666666667, 0.4055208333333334, 0.5427604166666666, 0.7013802083333333, 0.8806901041666666, 1.080345052083333]\n",
      "0.1\n"
     ]
    }
   ],
   "source": [
    "%autoreload 2\n",
    "from src import ODE_euler_nth\n",
    "\n",
    "# ys_nth,ts_nth, h = ODE_euler_nth() # COMPLETAR\n",
    "# ys_nth\n",
    "from src import ODE_euler, ODE_euler_nth\n",
    "f = lambda t, y: -5*y + 5*t**2 + 2*t\n",
    "f_p = lambda t, y: 10*t +2\n",
    "y_t0 = 1/3\n",
    "\n",
    "a = 0\n",
    "b = 1\n",
    "\n",
    "ys_nth,ts_nth, h = ODE_euler_nth(a=a, b=b, y_t0=y_t0, f=f, f_derivatives=[f_p], N=10)\n",
    "print(ys)\n",
    "print(h)"
   ]
  },
  {
   "cell_type": "code",
   "execution_count": null,
   "metadata": {},
   "outputs": [],
   "source": []
  },
  {
   "cell_type": "code",
   "execution_count": null,
   "metadata": {},
   "outputs": [],
   "source": []
  }
 ],
 "metadata": {
  "kernelspec": {
   "display_name": "Python 3",
   "language": "python",
   "name": "python3"
  },
  "language_info": {
   "codemirror_mode": {
    "name": "ipython",
    "version": 3
   },
   "file_extension": ".py",
   "mimetype": "text/x-python",
   "name": "python",
   "nbconvert_exporter": "python",
   "pygments_lexer": "ipython3",
   "version": "3.12.3"
  }
 },
 "nbformat": 4,
 "nbformat_minor": 2
}
